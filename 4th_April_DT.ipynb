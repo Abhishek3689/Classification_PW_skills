{
 "cells": [
  {
   "cell_type": "markdown",
   "id": "d9674bef-db01-4ea4-ab4e-8479bf0f6e89",
   "metadata": {},
   "source": [
    "Q1. Describe the decision tree classifier algorithm and how it works to make predictions."
   ]
  },
  {
   "cell_type": "code",
   "execution_count": 1,
   "id": "4e59fd24-16d8-46e2-9344-ae9b6123b0a7",
   "metadata": {},
   "outputs": [],
   "source": [
    "## Decision Tree Classifier is a supervised machine learning Algorithm used for classification problems"
   ]
  },
  {
   "cell_type": "code",
   "execution_count": 2,
   "id": "9e8d8c9e-03e9-4534-b30a-443339286376",
   "metadata": {},
   "outputs": [],
   "source": [
    "## AS the name suggest Decision tree is a tree like strucutre having root node,child, branches and leaf nodes.\n",
    "## The process of building a decision tree involves selecting the best attribute to split the dataset at each node.\n",
    "## In DT first root node is identified by calcluating entropy/Gini Impurity and Inforamtion Gain of the features."
   ]
  },
  {
   "cell_type": "code",
   "execution_count": 3,
   "id": "d3026312-1644-4ac4-9194-455d8aa26fb9",
   "metadata": {},
   "outputs": [],
   "source": [
    "## First we calculate the entropy/Gini Impurity by forming a tree by selecting 1st feature as root node : entropy/Gini Impurity is randomness or impurity in the data\n",
    "## The value of entropy ranges between 0 and 1, 0 indicates complete purity while 1 denotes complete impurity\n",
    "## Nodes starting from root node are splitted till we get complete pure leaf i.e. it has only one class\n",
    "## We calculate the entropy of this tree\n",
    "## Entropy,H(S)=-P(class1)log(P(class1))-P(class2)Log(P(class2))\n",
    "## Then entropy is calculated for another tree having another feature as root node , \n",
    "## Similarly enropy is calculated for all featrues as root node"
   ]
  },
  {
   "cell_type": "code",
   "execution_count": 4,
   "id": "0638ef53-7f79-4e5d-9d14-23ff6b92182e",
   "metadata": {},
   "outputs": [],
   "source": [
    "## After this we need to calculate the Information gain \n",
    "## IG(S, A) = H(S) - ∑(v∈Values(A)) [(|Sv| / |S|) * H(Sv)]\n",
    "##  Where Values(A) is the set of possible values of attribute A, Sv is the subset of S where attribute A has the value v, \n",
    "## |Sv| is the number of instances in Sv, and |S| is the total number of instances in S."
   ]
  },
  {
   "cell_type": "code",
   "execution_count": 5,
   "id": "796735ba-dc04-4451-b704-b9aa991505f6",
   "metadata": {},
   "outputs": [],
   "source": [
    "## The attribute with the highest information gain is considered the best attribute to split the dataset at that node \n",
    "## because it maximizes the reduction in entropy, resulting in the most significant increase in the purity of the subsets."
   ]
  },
  {
   "cell_type": "code",
   "execution_count": 6,
   "id": "219850c7-df0f-43e1-ba58-3bfeba437d09",
   "metadata": {},
   "outputs": [],
   "source": [
    "## To make a prediction for a new instance, we start at the root node of the tree and compare the value of the input feature \n",
    "## to the attribute value at that node. Based on the result, we move to the corresponding child node. \n",
    "## We repeat this process until we reach a leaf node, which represents a class label.\n",
    "## The class label associated with the leaf node is the predicted class for the input instance."
   ]
  },
  {
   "cell_type": "markdown",
   "id": "3b557371-67be-4043-bd36-5afce2e0c12e",
   "metadata": {},
   "source": [
    "Q2. Provide a step-by-step explanation of the mathematical intuition behind decision tree classification."
   ]
  },
  {
   "cell_type": "code",
   "execution_count": 7,
   "id": "79484623-2fb8-4f95-8174-ea84d62561a5",
   "metadata": {},
   "outputs": [],
   "source": [
    "## AS Explained in Question 1 step by step explanation is provided"
   ]
  },
  {
   "cell_type": "markdown",
   "id": "26cd3fc5-8394-4ed8-9c78-d2c0d3f0641f",
   "metadata": {},
   "source": [
    "Q3. Explain how a decision tree classifier can be used to solve a binary classification problem."
   ]
  },
  {
   "cell_type": "code",
   "execution_count": 8,
   "id": "9af37df7-ca89-4ebc-a4d8-065465d6ca94",
   "metadata": {},
   "outputs": [],
   "source": [
    "## lets consider example where we want to classifiy if a fruit is apple or not( to classify as yes or NO)"
   ]
  },
  {
   "cell_type": "code",
   "execution_count": 9,
   "id": "aab76a60-d403-4370-9682-f7e68c51fb0e",
   "metadata": {},
   "outputs": [],
   "source": [
    "## lets there be 3 features shape, color,taste as shown below"
   ]
  },
  {
   "cell_type": "code",
   "execution_count": 10,
   "id": "951f0300-e2a7-4520-8d53-bef922a32afd",
   "metadata": {},
   "outputs": [],
   "source": [
    "import pandas as pd"
   ]
  },
  {
   "cell_type": "code",
   "execution_count": 11,
   "id": "d8bc29e5-acb9-4be6-a7b9-cb54f8e95b83",
   "metadata": {},
   "outputs": [],
   "source": [
    "df=pd.DataFrame({\"Shape\":['oval','round','cylindrical','oval','cylindrical','round','oval'],\"color\":['red','orange','yellow','red','yellow','red','red'],\"taste\":['sweet','sour','sweet','sour','sweet','sweet','sweet'],\"Label\":[\"yes\",\"no\",'no','yes','no','yes','yes']})"
   ]
  },
  {
   "cell_type": "code",
   "execution_count": 12,
   "id": "d0f8416a-47b8-47c8-a0be-8a1a750c3067",
   "metadata": {},
   "outputs": [
    {
     "data": {
      "text/html": [
       "<div>\n",
       "<style scoped>\n",
       "    .dataframe tbody tr th:only-of-type {\n",
       "        vertical-align: middle;\n",
       "    }\n",
       "\n",
       "    .dataframe tbody tr th {\n",
       "        vertical-align: top;\n",
       "    }\n",
       "\n",
       "    .dataframe thead th {\n",
       "        text-align: right;\n",
       "    }\n",
       "</style>\n",
       "<table border=\"1\" class=\"dataframe\">\n",
       "  <thead>\n",
       "    <tr style=\"text-align: right;\">\n",
       "      <th></th>\n",
       "      <th>Shape</th>\n",
       "      <th>color</th>\n",
       "      <th>taste</th>\n",
       "      <th>Label</th>\n",
       "    </tr>\n",
       "  </thead>\n",
       "  <tbody>\n",
       "    <tr>\n",
       "      <th>0</th>\n",
       "      <td>oval</td>\n",
       "      <td>red</td>\n",
       "      <td>sweet</td>\n",
       "      <td>yes</td>\n",
       "    </tr>\n",
       "    <tr>\n",
       "      <th>1</th>\n",
       "      <td>round</td>\n",
       "      <td>orange</td>\n",
       "      <td>sour</td>\n",
       "      <td>no</td>\n",
       "    </tr>\n",
       "    <tr>\n",
       "      <th>2</th>\n",
       "      <td>cylindrical</td>\n",
       "      <td>yellow</td>\n",
       "      <td>sweet</td>\n",
       "      <td>no</td>\n",
       "    </tr>\n",
       "    <tr>\n",
       "      <th>3</th>\n",
       "      <td>oval</td>\n",
       "      <td>red</td>\n",
       "      <td>sour</td>\n",
       "      <td>yes</td>\n",
       "    </tr>\n",
       "    <tr>\n",
       "      <th>4</th>\n",
       "      <td>cylindrical</td>\n",
       "      <td>yellow</td>\n",
       "      <td>sweet</td>\n",
       "      <td>no</td>\n",
       "    </tr>\n",
       "    <tr>\n",
       "      <th>5</th>\n",
       "      <td>round</td>\n",
       "      <td>red</td>\n",
       "      <td>sweet</td>\n",
       "      <td>yes</td>\n",
       "    </tr>\n",
       "    <tr>\n",
       "      <th>6</th>\n",
       "      <td>oval</td>\n",
       "      <td>red</td>\n",
       "      <td>sweet</td>\n",
       "      <td>yes</td>\n",
       "    </tr>\n",
       "  </tbody>\n",
       "</table>\n",
       "</div>"
      ],
      "text/plain": [
       "         Shape   color  taste Label\n",
       "0         oval     red  sweet   yes\n",
       "1        round  orange   sour    no\n",
       "2  cylindrical  yellow  sweet    no\n",
       "3         oval     red   sour   yes\n",
       "4  cylindrical  yellow  sweet    no\n",
       "5        round     red  sweet   yes\n",
       "6         oval     red  sweet   yes"
      ]
     },
     "execution_count": 12,
     "metadata": {},
     "output_type": "execute_result"
    }
   ],
   "source": [
    "df"
   ]
  },
  {
   "cell_type": "code",
   "execution_count": 13,
   "id": "a446c0dc-0e21-477f-acab-48c82e5a6331",
   "metadata": {},
   "outputs": [],
   "source": [
    "## Here we calculate the Entropy for label "
   ]
  },
  {
   "cell_type": "code",
   "execution_count": 14,
   "id": "3dd5f709-1c8a-499b-b62e-b89251a670ab",
   "metadata": {},
   "outputs": [],
   "source": [
    "## We will now calculate etropy and information gain for shape,color,taste"
   ]
  },
  {
   "cell_type": "code",
   "execution_count": 15,
   "id": "6efb62cb-d483-4104-9367-6454ec5d7477",
   "metadata": {},
   "outputs": [],
   "source": [
    "## Lets consider taste  is giving the highest information gain in this case we will select 'taste' as root node.\n",
    "## After this we divide the dataset into subset and again same proces is folowed for remaining attribute"
   ]
  },
  {
   "cell_type": "code",
   "execution_count": 16,
   "id": "8f9d9306-6681-4bf7-849d-39f825d92901",
   "metadata": {},
   "outputs": [],
   "source": [
    "## Now lets divide the dataset into new subset lets say for sweet taste and again entropy and Inforamtion gain is calculated for rest of attribute and found \n",
    "## that color is best attribute , this will be best for sweet and similarly for sour we get colr as best attibute.\n",
    "## In this way we divide all till leaf node is created."
   ]
  },
  {
   "cell_type": "markdown",
   "id": "28cf2ecb-465b-450f-938e-c26c22fe69e9",
   "metadata": {},
   "source": [
    "Q4. Discuss the geometric intuition behind decision tree classification and how it can be used to make\n",
    "predictions."
   ]
  },
  {
   "cell_type": "code",
   "execution_count": 17,
   "id": "04a036f6-b1f3-48e5-9265-853bf84b22bd",
   "metadata": {},
   "outputs": [],
   "source": [
    "## Here's a step-by-step explanation of how the geometric intuition is used in decision tree classification:"
   ]
  },
  {
   "cell_type": "code",
   "execution_count": 18,
   "id": "438e5be1-471c-42fc-a3c5-e9846f6e3940",
   "metadata": {},
   "outputs": [],
   "source": [
    "## Starting with the root node, the algorithm selects the feature that best splits the data based on some criterion such as information gain or Gini impurity.\n",
    "# This feature corresponds to a coordinate axis in the feature space."
   ]
  },
  {
   "cell_type": "code",
   "execution_count": 19,
   "id": "eaad64fd-ba67-4dc8-ac99-3c00122d6caa",
   "metadata": {},
   "outputs": [],
   "source": [
    "## The algorithm then creates a split or cut along the selected feature, dividing the feature space into two subspaces. \n",
    "## Each subspace corresponds to a child node of the root node."
   ]
  },
  {
   "cell_type": "code",
   "execution_count": 20,
   "id": "f114dd90-bf12-42d9-ba70-17fcf75ad307",
   "metadata": {},
   "outputs": [],
   "source": [
    "## The process of selecting the best feature and creating a split is repeated recursively for each child node until a stopping criterion is met, \n",
    "## such as reaching a maximum tree depth or having a minimum number of samples at each leaf node"
   ]
  },
  {
   "cell_type": "code",
   "execution_count": 21,
   "id": "395e6d43-ecf6-49ec-985f-07bcf947c963",
   "metadata": {},
   "outputs": [],
   "source": [
    "## To make predictions for new instances, we traverse the decision tree by starting at the root node and following \n",
    "## the path of each input feature value until we reach a leaf node.\n",
    "## The class label associated with the leaf node is the predicted class for the input instance."
   ]
  },
  {
   "cell_type": "markdown",
   "id": "bed03138-361e-47fc-ba34-c53b75d893a4",
   "metadata": {},
   "source": [
    "Q5. Define the confusion matrix and describe how it can be used to evaluate the performance of a\n",
    "classification model."
   ]
  },
  {
   "cell_type": "code",
   "execution_count": 22,
   "id": "3db94f07-5c9b-4d6d-a6fd-2b42a556ac7a",
   "metadata": {},
   "outputs": [],
   "source": [
    "## Confusion Matrix is the Performance metrics of Classification algorithms which shows how confused our model is, meaning how it has predicted classes in form \n",
    "## of matrix. "
   ]
  },
  {
   "attachments": {
    "6e121f84-e286-4f19-88ea-556b90330ec5.png": {
     "image/png": "[encoded data removed]"
    }
   },
   "cell_type": "markdown",
   "id": "c794efac-9337-4a3b-b3f8-0dc4c874cfb9",
   "metadata": {},
   "source": [
    "![image.png](attachment:6e121f84-e286-4f19-88ea-556b90330ec5.png)!"
   ]
  },
  {
   "cell_type": "code",
   "execution_count": 23,
   "id": "9476d18a-42f7-4ee1-b1d3-8067e058b76b",
   "metadata": {},
   "outputs": [],
   "source": [
    "## True Positie(TP) : this shows how much it has correclty predicted positives \n",
    "## False Positive(FP): This shows how much it has predicted positives which is actually negative\n",
    "## True Negative(TN): This indicates how much it has predicted negative which is actually negatives\n",
    "## False Negative(FN): This indicates how much it has predicted negatives which is actually positive"
   ]
  },
  {
   "cell_type": "code",
   "execution_count": 24,
   "id": "46d4f23f-8e96-452d-9984-3e45ae5db712",
   "metadata": {},
   "outputs": [],
   "source": [
    "## From these 4 we can calculate accuracy,Precision,Recall, F1 Score, and other parameters"
   ]
  },
  {
   "cell_type": "markdown",
   "id": "ada65f0c-3acb-480f-908a-8512ac616bf2",
   "metadata": {},
   "source": [
    "Q6. Provide an example of a confusion matrix and explain how precision, recall, and F1 score can be\n",
    "calculated from it."
   ]
  },
  {
   "attachments": {
    "346a2683-a4a9-4305-887a-527fc29b7ed2.png": {
     "image/png": "[encoded data removed]"
    }
   },
   "cell_type": "markdown",
   "id": "2a416d94-ff46-4a8f-a52d-3789a60bc484",
   "metadata": {},
   "source": [
    "![image.png](attachment:346a2683-a4a9-4305-887a-527fc29b7ed2.png)"
   ]
  },
  {
   "cell_type": "code",
   "execution_count": 25,
   "id": "0bb8d7ff-214d-4b29-b7ef-37ea82f07684",
   "metadata": {},
   "outputs": [],
   "source": [
    "## From above Diagram\n",
    "\n",
    "## TP=100\n",
    "## FP=10\n",
    "## FN=20\n",
    "## TN=70"
   ]
  },
  {
   "cell_type": "code",
   "execution_count": 26,
   "id": "dc5f5ce9-0ed6-4958-b0d0-724916b717a8",
   "metadata": {},
   "outputs": [],
   "source": [
    "## precision:TP/(TP+FP)\n",
    "## precision=100/(100+10)=.90"
   ]
  },
  {
   "cell_type": "code",
   "execution_count": 27,
   "id": "e07e6a0b-b826-41a6-b2d8-c3177a2d92af",
   "metadata": {},
   "outputs": [],
   "source": [
    "## Recall:TP/(TP+FN)\n",
    "## Recall=100/(100+20)=.83"
   ]
  },
  {
   "cell_type": "code",
   "execution_count": 28,
   "id": "80081efa-abf4-474b-bf6b-65ff3dba2240",
   "metadata": {},
   "outputs": [],
   "source": [
    "## F1 Score=2*(precision*Recall)/((precision+Recall)\n",
    "## F1-Score=2*(.90*.83)/(.90+.83)=.86"
   ]
  },
  {
   "cell_type": "markdown",
   "id": "4d947173-d2ed-441f-9dc7-3263245458b3",
   "metadata": {},
   "source": [
    "Q7. Discuss the importance of choosing an appropriate evaluation metric for a classification problem and\n",
    "explain how this can be done."
   ]
  },
  {
   "cell_type": "code",
   "execution_count": 29,
   "id": "8f5ace5e-8ebc-4328-a57e-02b2074f134b",
   "metadata": {},
   "outputs": [],
   "source": [
    "## Choosing the best metric to evaluate the performance of a classification model depends on the problem at hand,\n",
    "## the goals of the analysis, and the trade-offs between different types of errors. "
   ]
  },
  {
   "cell_type": "code",
   "execution_count": 30,
   "id": "a6ebdf20-6655-492c-bc4e-5f32a6f74472",
   "metadata": {},
   "outputs": [],
   "source": [
    "## It is often useful to consider multiple metrics and to interpret them in the context of the problem at hand.\n",
    "## For example, in a medical diagnosis task, it may be more important to have high recall to minimize false negatives,\n",
    "## whereas in a spam email classification task, it may be more important to have high precision to minimize false positives."
   ]
  },
  {
   "cell_type": "markdown",
   "id": "20d91aab-1261-43e1-81dd-cef2b08de51c",
   "metadata": {},
   "source": [
    "Q8. Provide an example of a classification problem where precision is the most important metric, and\n",
    "explain why."
   ]
  },
  {
   "cell_type": "code",
   "execution_count": 31,
   "id": "807453ff-282b-4be8-84b8-203ea040de7e",
   "metadata": {},
   "outputs": [],
   "source": [
    "## An example of a classification problem where precision is the most important metric could be in a credit card fraud detection task.\n",
    "## In this problem, the goal is to identify fraudulent transactions and prevent them from being approved or processed, \n",
    "## while minimizing the number of legitimate transactions that are falsely flagged as fraudulent (i.e., minimizing false positives)."
   ]
  },
  {
   "cell_type": "code",
   "execution_count": 32,
   "id": "f655c68c-4229-4944-ab3f-7a24b99cdb42",
   "metadata": {},
   "outputs": [],
   "source": [
    "## If the precision is low, it could result in a high number of false positives, which would cause inconvenience to legitimate customers \n",
    "## and increase the operational cost of handling those transactions."
   ]
  },
  {
   "cell_type": "code",
   "execution_count": 33,
   "id": "0d36563c-a441-43fd-8ae6-46da48b6d834",
   "metadata": {},
   "outputs": [],
   "source": [
    "## For example, if a credit card company's fraud detection system flags many legitimate transactions as fraudulent, \n",
    "## customers may become frustrated and lose trust in the company's services, resulting in decreased revenue and customer retention."
   ]
  },
  {
   "cell_type": "markdown",
   "id": "4a4f9304-d167-4eb2-93e8-9b152f46637c",
   "metadata": {},
   "source": [
    "Q9. Provide an example of a classification problem where recall is the most important metric, and explain\n",
    "why."
   ]
  },
  {
   "cell_type": "code",
   "execution_count": 34,
   "id": "873d99fd-f582-4033-9bcc-7421be361a80",
   "metadata": {},
   "outputs": [],
   "source": [
    "## An example of a classification problem where recall is the most important metric could be in a medical diagnosis task for a life-threatening disease, \n",
    "## such as cancer. In this problem, the goal is to identify all patients who have the disease and provide early treatment,\n",
    "## while minimizing the number of patients who are falsely identified as negative for the disease (i.e., minimizing false negatives)."
   ]
  },
  {
   "cell_type": "code",
   "execution_count": 35,
   "id": "b4eadc60-6f08-475e-9e5a-ac356d4dc13b",
   "metadata": {},
   "outputs": [],
   "source": [
    "## If the recall is low, it could result in many patients being incorrectly identified as negative for the disease,\n",
    "## leading to delayed treatment and worse health outcomes. "
   ]
  },
  {
   "cell_type": "code",
   "execution_count": null,
   "id": "e343523b-de3b-4031-9741-1f5dd575eb5e",
   "metadata": {},
   "outputs": [],
   "source": []
  }
 ],
 "metadata": {
  "kernelspec": {
   "display_name": "Python 3 (ipykernel)",
   "language": "python",
   "name": "python3"
  },
  "language_info": {
   "codemirror_mode": {
    "name": "ipython",
    "version": 3
   },
   "file_extension": ".py",
   "mimetype": "text/x-python",
   "name": "python",
   "nbconvert_exporter": "python",
   "pygments_lexer": "ipython3",
   "version": "3.10.8"
  }
 },
 "nbformat": 4,
 "nbformat_minor": 5
}
