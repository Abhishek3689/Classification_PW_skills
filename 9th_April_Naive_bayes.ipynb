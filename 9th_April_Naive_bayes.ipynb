{
 "cells": [
  {
   "cell_type": "markdown",
   "id": "9cc770a9-5867-41d2-96bb-b33382bca77a",
   "metadata": {},
   "source": [
    "Q1. What is Bayes' theorem?"
   ]
  },
  {
   "cell_type": "code",
   "execution_count": 1,
   "id": "cfa8a423-5365-4df1-a77a-b7704fc0b7cd",
   "metadata": {},
   "outputs": [],
   "source": [
    "## Bayes' theorem is a mathematical formula that describes the probability of an event based on prior knowledge of related events.\n",
    "## It states that Probability of event A given event B has already occurred"
   ]
  },
  {
   "cell_type": "markdown",
   "id": "05ae7b19-3860-4ed9-abea-116dc74229fd",
   "metadata": {},
   "source": [
    "Q2. What is the formula for Bayes' theorem?"
   ]
  },
  {
   "cell_type": "code",
   "execution_count": 2,
   "id": "ea7ba3ae-7e2d-4930-a378-f7a7775cd28c",
   "metadata": {},
   "outputs": [],
   "source": [
    "## P(A|B) = P(B|A) x P(A) / P(B)"
   ]
  },
  {
   "cell_type": "code",
   "execution_count": 3,
   "id": "bcb08eec-f1d9-4dc8-b6f3-8d15132be16f",
   "metadata": {},
   "outputs": [],
   "source": [
    "## where\n",
    "## P(A|B) is the probability of event A occurring given that event B has occurred\n",
    "## P(B|A) is the probability of event B occurring given that event A has occurred.\n",
    "## P(A) is the prior probability of event A occurring.\n",
    "## P(B) is the prior probability of event B occurring."
   ]
  },
  {
   "cell_type": "markdown",
   "id": "109a0491-8bb2-4b13-a5ae-c250ef8909db",
   "metadata": {},
   "source": [
    "Q3. How is Bayes' theorem used in practice?"
   ]
  },
  {
   "cell_type": "code",
   "execution_count": 4,
   "id": "27962b87-6716-4795-b194-b100c62d3309",
   "metadata": {},
   "outputs": [],
   "source": [
    "## Bayes Theorem is used in multiple application of classification"
   ]
  },
  {
   "cell_type": "code",
   "execution_count": 5,
   "id": "a19df68a-0d9d-4032-b3c5-0175dbec35d8",
   "metadata": {},
   "outputs": [],
   "source": [
    "## 1.Used in Medical diagnosis to calculate the probability of disease occurence based on symptoms and test results\n",
    "## 2.Used in spam classification: it can be used to classifiy mail as spam or not\n",
    "## 3.Sentiment analysis:it can be used for product review in online shopping , services satisfaction in banking"
   ]
  },
  {
   "cell_type": "markdown",
   "id": "a244a0d3-b263-45ca-890d-2ff28be52c1c",
   "metadata": {},
   "source": [
    "Q4. What is the relationship between Bayes' theorem and conditional probability?"
   ]
  },
  {
   "cell_type": "code",
   "execution_count": 6,
   "id": "5ed02517-fce5-41fa-ad3e-03d6accd9ea2",
   "metadata": {},
   "outputs": [],
   "source": [
    "## Bayes' theorem is a mathematical formula that relates conditional probabilities"
   ]
  },
  {
   "cell_type": "code",
   "execution_count": 7,
   "id": "929ee12f-5808-4c8b-a826-0c22f476e85e",
   "metadata": {},
   "outputs": [],
   "source": [
    "## Specifically, it provides a way to calculate the conditional probability of an event A given an event B, \n",
    "## based on the conditional probability of event B given event A, and the prior probability of event A and B."
   ]
  },
  {
   "cell_type": "code",
   "execution_count": 8,
   "id": "aff7dec3-9e3b-4539-acdb-861468ff5f5a",
   "metadata": {},
   "outputs": [],
   "source": [
    "## P(A|B) = P(B|A) x P(A) / P(B)\n",
    "## where P(A|B) is the conditional probability of event A given event B, P(B|A) is the conditional probability of event B given event A"
   ]
  },
  {
   "cell_type": "code",
   "execution_count": 9,
   "id": "4a45d530-2aa3-4fea-bf80-867d50b36fbb",
   "metadata": {},
   "outputs": [],
   "source": [
    "## Conditional probability is the probability of an event occurring given that another event has occurred. It is defined as:"
   ]
  },
  {
   "cell_type": "code",
   "execution_count": 10,
   "id": "fcc27ff8-d4a3-42a6-b7ba-8e3242a8f171",
   "metadata": {},
   "outputs": [],
   "source": [
    "## P(A|B) = P(A and B) / P(B)"
   ]
  },
  {
   "cell_type": "code",
   "execution_count": 12,
   "id": "00e63f46-f687-4af3-a5f9-008b40ec7098",
   "metadata": {},
   "outputs": [],
   "source": [
    "## where P(A and B) is the probability of both events A and B occurring, and P(B) is the probability of event B occurring"
   ]
  },
  {
   "cell_type": "markdown",
   "id": "ddb6a4f0-2feb-4012-8fcd-ebc7dead4bae",
   "metadata": {},
   "source": [
    "Q5. How do you choose which type of Naive Bayes classifier to use for any given problem?"
   ]
  },
  {
   "cell_type": "code",
   "execution_count": 13,
   "id": "cee8d381-1369-46de-8499-a71c234577fd",
   "metadata": {},
   "outputs": [],
   "source": [
    "## There are 3 types of Naive Bayes Classifier"
   ]
  },
  {
   "cell_type": "code",
   "execution_count": 14,
   "id": "0d6bc35b-775f-4a7d-a924-950d1c44c01d",
   "metadata": {},
   "outputs": [],
   "source": [
    "## Guassian Naive Bayes:This type of classifier assumes that the continuous features of the input data are normally distributed."
   ]
  },
  {
   "cell_type": "code",
   "execution_count": 16,
   "id": "68c28603-80da-4a74-84b5-e8e391ab3cdc",
   "metadata": {},
   "outputs": [],
   "source": [
    "## Multinomial Naive Bayes: This type of classifier assumes that the input data has a discrete distribution, such as word counts in a text classification problem\n",
    "## It is commonly used for text classification problems, such as spam detection or sentiment analysis"
   ]
  },
  {
   "cell_type": "code",
   "execution_count": 17,
   "id": "8f577e38-1c48-4c57-8b5c-c8c8e354017d",
   "metadata": {},
   "outputs": [],
   "source": [
    "## Bernoulli Naive Bayes: This type of classifier assumes that the input data is binary, meaning that each feature can take on one of two values,\n",
    "## such as true/false or 1/0."
   ]
  },
  {
   "cell_type": "markdown",
   "id": "a571683d-4f43-44d6-9a3e-829b1e3e49c2",
   "metadata": {},
   "source": [
    "Q.6 You have a dataset with two features, X1 and X2, and two possible classes, A and B. You want to use Naive\n",
    "Bayes to classify a new instance with features X1 = 3 and X2 = 4. The following table shows the frequency of\n",
    "each feature value for each class:"
   ]
  },
  {
   "cell_type": "raw",
   "id": "4aea4d5e-764a-4d6c-b61d-a59781f1e1a1",
   "metadata": {},
   "source": [
    "Class X1=1 X1=2 X1=3 X2=1 X2=2 X2=3 X2=4\n",
    "A 3 3 4 4 3 3 3\n",
    "B 2 2 1 2 2 2 3"
   ]
  },
  {
   "cell_type": "markdown",
   "id": "0918d2c4-2f3a-40e3-99e1-f89206e697f6",
   "metadata": {},
   "source": [
    "Assuming equal prior probabilities for each class, which class would Naive Bayes predict the new instance\n",
    "to belong to?"
   ]
  },
  {
   "cell_type": "code",
   "execution_count": 21,
   "id": "1ea5ac3f-67d6-4466-85ee-381c09b8e8af",
   "metadata": {},
   "outputs": [],
   "source": [
    "## Since input contains numerical values and in same range I wil use Guassian Naive Bayes to classify new instance"
   ]
  },
  {
   "cell_type": "code",
   "execution_count": 22,
   "id": "2b265bd7-2ee2-420b-98ef-efb546a6d177",
   "metadata": {},
   "outputs": [],
   "source": [
    "## Also seems the table has some issues "
   ]
  },
  {
   "cell_type": "code",
   "execution_count": null,
   "id": "134467c9-fc29-49d8-93e4-44bd41a96cb6",
   "metadata": {},
   "outputs": [],
   "source": []
  }
 ],
 "metadata": {
  "kernelspec": {
   "display_name": "Python 3 (ipykernel)",
   "language": "python",
   "name": "python3"
  },
  "language_info": {
   "codemirror_mode": {
    "name": "ipython",
    "version": 3
   },
   "file_extension": ".py",
   "mimetype": "text/x-python",
   "name": "python",
   "nbconvert_exporter": "python",
   "pygments_lexer": "ipython3",
   "version": "3.10.8"
  }
 },
 "nbformat": 4,
 "nbformat_minor": 5
}
