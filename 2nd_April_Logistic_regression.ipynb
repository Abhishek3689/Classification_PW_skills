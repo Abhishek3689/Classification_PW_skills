{
 "cells": [
  {
   "cell_type": "markdown",
   "id": "6dee1709-eb45-4082-8ef6-4065b5a8e182",
   "metadata": {},
   "source": [
    "Q1. What is the purpose of grid search cv in machine learning, and how does it work?"
   ]
  },
  {
   "cell_type": "code",
   "execution_count": 1,
   "id": "0dcdff33-ac84-4acb-960d-34c3eaa75715",
   "metadata": {},
   "outputs": [],
   "source": [
    "## GridsearchCV is used for hyperparameter Tuning in machine Learning, meaning to get the best performing parameter"
   ]
  },
  {
   "cell_type": "code",
   "execution_count": 2,
   "id": "9cfaba0a-0c5a-4cac-a447-0e86afffd53b",
   "metadata": {},
   "outputs": [],
   "source": [
    "## Grid search CV works by creating a grid of all possible combinations of hyperparameter values specified by the user. \n",
    "## The algorithm then trains a model for each combination of hyperparameters and evaluates the performance of the model using cross-validation."
   ]
  },
  {
   "cell_type": "code",
   "execution_count": 3,
   "id": "9bc91f3f-f3aa-4776-a349-ac5d2f5c019a",
   "metadata": {},
   "outputs": [],
   "source": [
    "## The hyperparameters that result in the best performance are selected as the optimal set of hyperparameters for the model."
   ]
  },
  {
   "cell_type": "markdown",
   "id": "9d6d1d76-a235-42d7-b526-4443e7c72513",
   "metadata": {},
   "source": [
    "Q2. Describe the difference between grid search cv and randomize search cv, and when might you choose\n",
    "one over the other?"
   ]
  },
  {
   "cell_type": "code",
   "execution_count": 4,
   "id": "c67e6d60-273a-4bc4-9f4b-246ac7f9f78b",
   "metadata": {},
   "outputs": [],
   "source": [
    "## GridsearchCV creates all possible combination of hyperparameters specified by the user\n",
    "## Randomized Search CV, on the other hand, randomly samples hyperparameters from a specified distribution"
   ]
  },
  {
   "cell_type": "code",
   "execution_count": 5,
   "id": "75d1a3e2-98ec-4f20-a221-55aeb37f752d",
   "metadata": {},
   "outputs": [],
   "source": [
    "## The advantage of Grid Search CV is that it exhaustively searches the entire hyperparameter space, ensuring that the best set of hyperparameters is found. \n",
    "##  The advantage of Randomized Search CV is that it samples hyperparameters from a distribution, which can be more efficient when dealing\n",
    "##   with a large number of hyperparameters."
   ]
  },
  {
   "cell_type": "code",
   "execution_count": 6,
   "id": "04558b54-5862-42f0-af69-01df70ecebc7",
   "metadata": {},
   "outputs": [],
   "source": [
    "## GridsearchCV is computationaly expensive and takes lot of time when dealing with large number of hyperparameters\n",
    "## Randomised Search CV is less expensive and saves time"
   ]
  },
  {
   "cell_type": "markdown",
   "id": "870b8007-f1f1-45da-9797-2b1a89affd5e",
   "metadata": {},
   "source": [
    "Q3. What is data leakage, and why is it a problem in machine learning? Provide an example."
   ]
  },
  {
   "cell_type": "code",
   "execution_count": 7,
   "id": "80198ff1-44f8-4bc2-bcf1-fcb41c728acc",
   "metadata": {},
   "outputs": [],
   "source": [
    "## Data leakage is a problem that occurs when information from outside the training data is used to create a machine learning model.\n",
    "## This can happen in various ways, such as using information from the test set or using information from the future that is not available at the time of model training."
   ]
  },
  {
   "cell_type": "code",
   "execution_count": 8,
   "id": "20e75827-c43d-4200-8fb0-4555c193d147",
   "metadata": {},
   "outputs": [],
   "source": [
    "## Data leakage is a significant problem in machine learning because it can lead to overfitting, where a model performs well on the training data but poorly on new, unseen data"
   ]
  },
  {
   "cell_type": "code",
   "execution_count": 9,
   "id": "433f8e8a-3aa0-4776-ab06-d9bf466640ca",
   "metadata": {},
   "outputs": [],
   "source": [
    "## Eg.Time series datasets when creating training and test sets can be difficult"
   ]
  },
  {
   "cell_type": "markdown",
   "id": "684d47ba-2e32-4ef4-9e25-aa8397edf4f9",
   "metadata": {},
   "source": [
    "Q4. How can you prevent data leakage when building a machine learning model?"
   ]
  },
  {
   "cell_type": "code",
   "execution_count": 10,
   "id": "f9e695a8-1c89-4c74-a629-605588070d8d",
   "metadata": {},
   "outputs": [],
   "source": [
    "## By uisng crossvalidation :Cross-validation can help you get a better estimate of model performance by using multiple train-test splits of your data\n",
    "## This helps avoid impact of outliers that might cause overfitting"
   ]
  },
  {
   "cell_type": "code",
   "execution_count": 11,
   "id": "fc1e23e0-ea92-4fbc-b8c7-39a6efb6cd39",
   "metadata": {},
   "outputs": [],
   "source": [
    "## Feature Engineering: It involves creating new features from exisitng data such as scaling or normalizing data, encoding categorical variables\n",
    "##  or creating interaction terms"
   ]
  },
  {
   "cell_type": "code",
   "execution_count": 12,
   "id": "e979792e-a50e-4593-bca1-2a64edd7278d",
   "metadata": {},
   "outputs": [],
   "source": [
    "## Keep testing data separate: Never use the testing data for any model selection, feature selection, or hyperparameter tuning"
   ]
  },
  {
   "cell_type": "markdown",
   "id": "a6bf5d6e-42c9-4099-82cb-6ca311854760",
   "metadata": {},
   "source": [
    "Q5. What is a confusion matrix, and what does it tell you about the performance of a classification model?"
   ]
  },
  {
   "cell_type": "code",
   "execution_count": 13,
   "id": "4f8fc24d-06d6-4efe-9ad9-e7214f91d0d7",
   "metadata": {},
   "outputs": [],
   "source": [
    "## Confusion Matrix is the Performance metrics of Classification algorithms which shows how confused our model is, meaning how it has predicted classes in form \n",
    "## of matrix. "
   ]
  },
  {
   "cell_type": "code",
   "execution_count": 14,
   "id": "12a581bd-c758-43a6-a2eb-77e33d8723c6",
   "metadata": {},
   "outputs": [],
   "source": [
    "## For eg lets consider binary classification problem then it has four cells,as shown below"
   ]
  },
  {
   "attachments": {
    "1c6f41ad-9edf-4ae2-9d0a-8aa5f896575b.png": {
     "image/png": "[encoded data removed]"
    }
   },
   "cell_type": "markdown",
   "id": "a38ff310-de89-47cf-a8d7-c68e96d27722",
   "metadata": {},
   "source": [
    "![image.png](attachment:1c6f41ad-9edf-4ae2-9d0a-8aa5f896575b.png)"
   ]
  },
  {
   "cell_type": "code",
   "execution_count": 15,
   "id": "3c8c32ba-524b-4fc9-aaa4-cd813affd043",
   "metadata": {},
   "outputs": [],
   "source": [
    "## True Positie(TP) : this shows how much it has correclty predicted positives \n",
    "## False Positive(FP): This shows how much it has predicted positives which is actually negative\n",
    "## True Negative(TN): This indicates how much it has predicted negative which is actually negatives\n",
    "## False Negative(FN): This indicates how much it has predicted negatives which is actually positive"
   ]
  },
  {
   "cell_type": "markdown",
   "id": "6f202143-c532-4fd1-b611-ba62549cf2bd",
   "metadata": {},
   "source": [
    "Q6. Explain the difference between precision and recall in the context of a confusion matrix."
   ]
  },
  {
   "cell_type": "code",
   "execution_count": 16,
   "id": "acbaa706-560f-4bda-ab3e-d4384870fe82",
   "metadata": {},
   "outputs": [],
   "source": [
    "## Precision is defined as the ratio of True Positive to the Total Predicted Positive : TP/(TP+FP)\n",
    "##  precision measures how well the model identifies positive instances without including any false positives. \n",
    "## A high precision indicates that the model makes very few false positive predictions.\n",
    "## precision focuses on minimizing false positives"
   ]
  },
  {
   "cell_type": "code",
   "execution_count": 17,
   "id": "9670ceca-3f30-4fdc-ad1a-edc3c8df4e89",
   "metadata": {},
   "outputs": [],
   "source": [
    "## Recall is defined as the ratio of True Positive to the Actual Positive:TP/(TP+FN)\n",
    "## recall measures how well the model identifies all positive instances, including the ones that were missed by the model\n",
    "##A high recall indicates that the model captures most of the actual positive instances.\n",
    "## while recall focuses on minimizing false negatives"
   ]
  },
  {
   "cell_type": "markdown",
   "id": "2f9e59b9-16f2-456b-9614-fadc8e6826b4",
   "metadata": {},
   "source": [
    "Q7. How can you interpret a confusion matrix to determine which types of errors your model is making?"
   ]
  },
  {
   "cell_type": "code",
   "execution_count": 18,
   "id": "16b1fcf1-358e-4c35-9e95-3ad151107356",
   "metadata": {},
   "outputs": [],
   "source": [
    "## AS Explained in question 5. A confusion matrix is a table that summarizes the performance of a classification model by comparing the predicted labels to the true labels."
   ]
  },
  {
   "cell_type": "code",
   "execution_count": 19,
   "id": "216775f5-6cb6-4200-b344-6c99d83b10e7",
   "metadata": {},
   "outputs": [],
   "source": [
    "## There are 4 cells in a binary classification problem\n",
    "## TP,TN,FP,FN"
   ]
  },
  {
   "cell_type": "code",
   "execution_count": 20,
   "id": "d428164d-dc29-4a21-97ec-0e8e60509722",
   "metadata": {},
   "outputs": [],
   "source": [
    "## Once we have all these we can use performance metrics such as accuracy, precision, recall, and F1-score"
   ]
  },
  {
   "cell_type": "markdown",
   "id": "a589ca01-b47d-486b-95c8-c9af4b31b004",
   "metadata": {},
   "source": [
    "Q8. What are some common metrics that can be derived from a confusion matrix, and how are they\n",
    "calculated?"
   ]
  },
  {
   "cell_type": "code",
   "execution_count": 21,
   "id": "293c4f9d-b742-4f76-9be4-1583866f3891",
   "metadata": {},
   "outputs": [],
   "source": [
    "## Common Metrics derived from consuion matrix"
   ]
  },
  {
   "cell_type": "code",
   "execution_count": 22,
   "id": "4fb3d951-0c3a-48aa-bd50-da39af5b8a7b",
   "metadata": {},
   "outputs": [],
   "source": [
    "## Accuracy: This is the proportion of correct predictions made by the model. It is calculated as (TP + TN) / (TP + TN + FP + FN)."
   ]
  },
  {
   "cell_type": "code",
   "execution_count": 23,
   "id": "3d80f037-7996-4b92-87de-f9888f8ce90c",
   "metadata": {},
   "outputs": [],
   "source": [
    "## Precision: This is the proportion of predicted positive instances that are actually positive. It is calculated as TP / (TP + FP)."
   ]
  },
  {
   "cell_type": "code",
   "execution_count": 24,
   "id": "a7cb4a45-fbe1-4f0f-97c4-917970b12fbe",
   "metadata": {},
   "outputs": [],
   "source": [
    "## Recall (or Sensitivity): This is the proportion of actual positive instances that are correctly predicted as positive. It is calculated as TP / (TP + FN)."
   ]
  },
  {
   "cell_type": "code",
   "execution_count": 25,
   "id": "cf0ce0cb-d7d3-4271-9d18-56b328f012e0",
   "metadata": {},
   "outputs": [],
   "source": [
    "## Specificity: This is the proportion of actual negative instances that are correctly predicted as negative. It is calculated as TN / (TN + FP)."
   ]
  },
  {
   "cell_type": "code",
   "execution_count": 26,
   "id": "265713d1-6146-4f30-b71c-b0a3d45fc00d",
   "metadata": {},
   "outputs": [],
   "source": [
    "## F1-score: This is the harmonic mean of precision and recall. It is calculated as 2 * (precision * recall) / (precision + recall)."
   ]
  },
  {
   "cell_type": "markdown",
   "id": "a1ad82f6-037b-414d-a26b-a6eac3a2ea3d",
   "metadata": {},
   "source": [
    "Q9. What is the relationship between the accuracy of a model and the values in its confusion matrix?"
   ]
  },
  {
   "cell_type": "code",
   "execution_count": 27,
   "id": "043547d6-03de-4da0-abf8-0d0e31453740",
   "metadata": {},
   "outputs": [],
   "source": [
    "## The accuracy of a classification model is defined as the proportion of correctly classified instances out of the total number of instances"
   ]
  },
  {
   "cell_type": "code",
   "execution_count": 28,
   "id": "083f6ffc-2466-4814-bd55-1906b1e376ab",
   "metadata": {},
   "outputs": [],
   "source": [
    "## Accuracy = (TP + TN) / (TP + TN + FP + FN)"
   ]
  },
  {
   "cell_type": "markdown",
   "id": "d53b71ab-569d-4f18-90c5-0750281d47b6",
   "metadata": {},
   "source": [
    "Q10. How can you use a confusion matrix to identify potential biases or limitations in your machine learning\n",
    "model?"
   ]
  },
  {
   "cell_type": "code",
   "execution_count": 29,
   "id": "72ad2ac7-b788-4954-bea5-6bdb83ea88b9",
   "metadata": {},
   "outputs": [],
   "source": [
    "## A confusion matrix can be a useful tool for identifying potential biases or limitations in a machine learning model."
   ]
  },
  {
   "cell_type": "code",
   "execution_count": 30,
   "id": "7282f2f4-a10f-40a9-ad32-1ed55d35eb95",
   "metadata": {},
   "outputs": [],
   "source": [
    "## Class Imbalance: Check for class imbalance by looking at the distribution of actual labels in the confusion matrix"
   ]
  },
  {
   "cell_type": "code",
   "execution_count": 31,
   "id": "445c72f6-f196-40cc-a360-2c03205d6c79",
   "metadata": {},
   "outputs": [],
   "source": [
    "## Overfitting: Check if the model is overfitting by comparing the performance of the model on the training data and validation data."
   ]
  },
  {
   "cell_type": "code",
   "execution_count": 32,
   "id": "2065471a-30e2-455a-b4d2-193cb4cf634d",
   "metadata": {},
   "outputs": [],
   "source": [
    "## Check for Precision and Recall: These parameters needs attention when dealing with some critical problems\n",
    "## For eg Precision is important in spam classification as important mails would be classified as spam , here FP is important\n",
    "## REcall is important in cancer disease classification as person having cancer may be misclassified as non-cancer leading to dangerous problem,here FN is important"
   ]
  },
  {
   "cell_type": "code",
   "execution_count": null,
   "id": "4e20fb41-3d04-482d-bbd6-3d4c5a80b885",
   "metadata": {},
   "outputs": [],
   "source": []
  }
 ],
 "metadata": {
  "kernelspec": {
   "display_name": "Python 3 (ipykernel)",
   "language": "python",
   "name": "python3"
  },
  "language_info": {
   "codemirror_mode": {
    "name": "ipython",
    "version": 3
   },
   "file_extension": ".py",
   "mimetype": "text/x-python",
   "name": "python",
   "nbconvert_exporter": "python",
   "pygments_lexer": "ipython3",
   "version": "3.10.8"
  }
 },
 "nbformat": 4,
 "nbformat_minor": 5
}
