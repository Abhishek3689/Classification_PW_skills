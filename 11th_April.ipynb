{
 "cells": [
  {
   "cell_type": "markdown",
   "id": "e8ad1b01-999f-4570-813f-73953bf5a8a1",
   "metadata": {},
   "source": [
    "Q1. What is an ensemble technique in machine learning?"
   ]
  },
  {
   "cell_type": "code",
   "execution_count": 1,
   "id": "b635c20c-58ca-4f67-8b0b-a7eba91052c9",
   "metadata": {},
   "outputs": [],
   "source": [
    "## Ensemble technique involves using multiple algorithms to train the model called base learners and output of all these algorithms\n",
    "## are combined by voting in classification and average in regression to get the final strong model to get the final output"
   ]
  },
  {
   "cell_type": "markdown",
   "id": "8f98c293-7b7d-44a6-9ae1-c77dfaafc4ba",
   "metadata": {},
   "source": [
    "Q2. Why are ensemble techniques used in machine learning?"
   ]
  },
  {
   "cell_type": "code",
   "execution_count": 2,
   "id": "b8dd58ae-0c10-4006-857a-086c56a8b768",
   "metadata": {},
   "outputs": [],
   "source": [
    "## Ensemble learning is used in machine learning to improve perfromace and accuracy of the models.\n",
    "## They also help us to resdce overfitting issue"
   ]
  },
  {
   "cell_type": "markdown",
   "id": "4e78a293-8194-48c6-acbd-5fed1c33e37c",
   "metadata": {},
   "source": [
    "Q3. What is bagging?"
   ]
  },
  {
   "cell_type": "code",
   "execution_count": 3,
   "id": "54d87fcb-d9a3-4471-a461-20d6d8b89a6c",
   "metadata": {},
   "outputs": [],
   "source": [
    "## It is one of the ensemble learning technique of machine learning where bootstrapping technique is involved\n",
    "## Here from the original dataset , subset of data is randomaly selected with replacement for multiple models and then training is done for models and finally\n",
    "## output is combined to get the output. \n",
    "## Here all the weak models run in parallel and are independent ."
   ]
  },
  {
   "cell_type": "markdown",
   "id": "1befe4c4-36ef-47ac-81d9-f62e8d92cebf",
   "metadata": {},
   "source": [
    "Q4. What is boosting?"
   ]
  },
  {
   "cell_type": "code",
   "execution_count": 4,
   "id": "c6524231-b80a-4cb3-9272-6cb830f0c3df",
   "metadata": {},
   "outputs": [],
   "source": [
    "## Boosting is a sequential process, where each subsequent model attempts to correct the errors of the previous model. The succeeding models are dependent on the previous model."
   ]
  },
  {
   "cell_type": "code",
   "execution_count": 5,
   "id": "5649a4e4-e78d-497d-89d4-7ad428b127d0",
   "metadata": {},
   "outputs": [],
   "source": [
    "## In boosting initial equal weightage is assign to all the samples/subset of data.\n",
    "## base Model is created in this subset\n",
    "## This model is used to make predictions on the whole dataset \n",
    "## Erros are calculated using actual and predicted values\n",
    "## The observation which has inaccurate prediction are assigned higher weightage\n",
    "## Similarly, multiple models are created, each correcting the errors of the previous model\n",
    "## The final model (strong learner) is the weighted mean of all the models (weak learners"
   ]
  },
  {
   "cell_type": "markdown",
   "id": "fe2a99ec-3169-4bb6-a990-0052023f660d",
   "metadata": {},
   "source": [
    "Q5. What are the benefits of using ensemble techniques?"
   ]
  },
  {
   "cell_type": "code",
   "execution_count": 6,
   "id": "e0e05bb0-2b10-4e4d-b2bd-a0ed3426fc68",
   "metadata": {},
   "outputs": [],
   "source": [
    "## Improved accuracy: Ensemble methods can significantly improve the accuracy of predictions, by combining the strengths of multiple models and compensating for their weaknesses\n",
    "## Robustness: Ensemble methods can improve the robustness of models, by reducing the impact of individual outliers or noise in the data.\n",
    "## Reduced overfitting: Ensemble methods can help reduce overfitting, which occurs when a model is too complex and fits the training data too closely."
   ]
  },
  {
   "cell_type": "markdown",
   "id": "558f736a-1b3b-42bb-8259-498f601a15fc",
   "metadata": {},
   "source": [
    "Q6. Are ensemble techniques always better than individual models?"
   ]
  },
  {
   "cell_type": "code",
   "execution_count": 7,
   "id": "7f9be201-c301-498d-b4fa-e8e4cbb0e452",
   "metadata": {},
   "outputs": [],
   "source": [
    "## There can be situatuion where dataset is small then it is better to use single more complex models\n",
    "## Sometimes also where there is tims constraints large dataset may be computationally expensive and time-consuming, \n",
    "## So we can say that ensemble techniques  is not always better than individual models"
   ]
  },
  {
   "cell_type": "markdown",
   "id": "8eccd832-fe77-4e70-bd0b-48a0eac6fc2d",
   "metadata": {},
   "source": [
    "Q7. How is the confidence interval calculated using bootstrap?"
   ]
  },
  {
   "cell_type": "code",
   "execution_count": 8,
   "id": "114e5b44-55f7-4c4e-bacf-5a289215d28c",
   "metadata": {},
   "outputs": [],
   "source": [
    "## To calculate the confidence interval using bootstrap, follow these steps:"
   ]
  },
  {
   "cell_type": "markdown",
   "id": "2cb95efd-a07c-486a-bbaa-e1353c500098",
   "metadata": {},
   "source": [
    "- Resample the original dataset with replacement to create a large number of bootstrap samples, each with the same size as the original dataset.\n",
    "\n",
    "- Calculate the statistic of interest (e.g., mean, standard deviation) for each bootstrap sample.\n",
    "\n",
    "- Calculate the mean and standard deviation of the statistics calculated in step 2.\n",
    "\n",
    "- Calculate the lower and upper bounds of the confidence interval by subtracting and adding the appropriate number of standard errors from the mean of the statistics.\n",
    "\n",
    "- lower bound = mean(statistics) - 1.96 * standard deviation(statistics)\n",
    "- upper bound = mean(statistics) + 1.96 * standard deviation(statistics)\n",
    "\n",
    "where 1.96 is the z-score for a 95% confidence interval."
   ]
  },
  {
   "cell_type": "markdown",
   "id": "ea6075ab-ac15-4c12-9116-1302e61c2326",
   "metadata": {},
   "source": [
    "Q8. How does bootstrap work and What are the steps involved in bootstrap?"
   ]
  },
  {
   "cell_type": "code",
   "execution_count": 9,
   "id": "fb449bcf-ff64-4920-8908-45ab23e922a7",
   "metadata": {},
   "outputs": [],
   "source": [
    "## Bootstrap\n",
    "## first subsets of data is randomly selected with replacement from original dataset\n",
    "## these subset are given to weak models\n",
    "## These all models run in parallel and independent of each other\n",
    "## Finally the output of all these models are combined to give more accurae output."
   ]
  },
  {
   "cell_type": "markdown",
   "id": "6933a6b9-793e-4aec-aa28-fd51be2f6841",
   "metadata": {},
   "source": [
    "Q9. A researcher wants to estimate the mean height of a population of trees. They measure the height of a\n",
    "sample of 50 trees and obtain a mean height of 15 meters and a standard deviation of 2 meters. Use\n",
    "bootstrap to estimate the 95% confidence interval for the population mean height."
   ]
  },
  {
   "cell_type": "code",
   "execution_count": 10,
   "id": "cfd40fe7-ed55-4643-9f70-2d37fcba8b0f",
   "metadata": {},
   "outputs": [],
   "source": [
    "## no of samples=50\n",
    "## sample mean=15\n",
    "## sample std=2"
   ]
  },
  {
   "cell_type": "code",
   "execution_count": 11,
   "id": "9cb1871c-e44d-4b45-b2d5-9ad9e4ff381f",
   "metadata": {},
   "outputs": [],
   "source": [
    "## formula for 95% confidence interval=\n",
    "## Population Mean = Sample Mean +/- t(alpha/2, n-1) * (Sample Standard Deviation / sqrt(n))"
   ]
  },
  {
   "cell_type": "code",
   "execution_count": 12,
   "id": "18700bb2-e80d-4824-afe0-408428532373",
   "metadata": {},
   "outputs": [],
   "source": [
    "## where:\n",
    "\n",
    "## Sample Mean is the mean of the sample data\n",
    "## Sample Standard Deviation is the standard deviation of the sample data\n",
    "## n is the number of samples in the sample data\n",
    "## t(alpha/2, n-1) is the t-value from the t-distribution with n-1 degrees of freedom, where alpha is the desired level of significance (e.g., alpha=0.05 for a 95% confidence interval)"
   ]
  },
  {
   "cell_type": "code",
   "execution_count": 13,
   "id": "549a4b99-f170-4405-ae1f-e5a8d0cd5ef5",
   "metadata": {},
   "outputs": [],
   "source": [
    "## population mean=15 +/- 1.96*2/sqrt(49))\n",
    "## we get 15 +/- .56\n",
    "## 14.44 to 15.56"
   ]
  },
  {
   "cell_type": "code",
   "execution_count": 14,
   "id": "e1acb53c-83e9-4962-9949-97e652a4040d",
   "metadata": {},
   "outputs": [],
   "source": [
    "## population mean ranges between 14.44 to 15.56"
   ]
  },
  {
   "cell_type": "code",
   "execution_count": null,
   "id": "ca76e35f-fe91-43a2-814b-e5ae8a7498ed",
   "metadata": {},
   "outputs": [],
   "source": []
  }
 ],
 "metadata": {
  "kernelspec": {
   "display_name": "Python 3 (ipykernel)",
   "language": "python",
   "name": "python3"
  },
  "language_info": {
   "codemirror_mode": {
    "name": "ipython",
    "version": 3
   },
   "file_extension": ".py",
   "mimetype": "text/x-python",
   "name": "python",
   "nbconvert_exporter": "python",
   "pygments_lexer": "ipython3",
   "version": "3.10.8"
  }
 },
 "nbformat": 4,
 "nbformat_minor": 5
}
