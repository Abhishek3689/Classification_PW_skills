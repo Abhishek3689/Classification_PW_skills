{
 "cells": [
  {
   "cell_type": "markdown",
   "id": "c27206cc-2a13-49f8-a590-ae7bf4afd603",
   "metadata": {},
   "source": [
    "Q1. Explain the concept of precision and recall in the context of classification models."
   ]
  },
  {
   "cell_type": "code",
   "execution_count": 1,
   "id": "62ce027b-979e-469d-bc86-4bb94af2870c",
   "metadata": {},
   "outputs": [],
   "source": [
    "## Precision:Precision is defined as the ratio of True Positive to the Total Predicted Positive : TP/(TP+FP)\n",
    "##  precision measures how well the model identifies positive instances without including any false positives. \n",
    "## It is very important in case of some classification problems for eg. In case of spam classification it is iportant to reduce False Positives as important mail\n",
    "## may be classified as spa"
   ]
  },
  {
   "cell_type": "code",
   "execution_count": 2,
   "id": "731a24c0-a400-40ed-951e-5bab7264344a",
   "metadata": {},
   "outputs": [],
   "source": [
    "## Recall is defined as the ratio of True Positive to the Actual Positive:TP/(TP+FN)\n",
    "## recall measures how well the model identifies all positive instances, including the ones that were missed by the model\n",
    "## REcall is important in cancer disease classification as person having cancer may be misclassified as non-cancer leading to dangerous problem,here FN is important\n",
    "## False negaties needs to be reduced"
   ]
  },
  {
   "cell_type": "markdown",
   "id": "a0429bf5-ed93-459c-afa6-3e37cdc4bfdb",
   "metadata": {},
   "source": [
    "Q2. What is the F1 score and how is it calculated? How is it different from precision and recall?"
   ]
  },
  {
   "cell_type": "code",
   "execution_count": 3,
   "id": "59385fc6-f0d9-46b9-a282-a9294198a204",
   "metadata": {},
   "outputs": [],
   "source": [
    "## F1 Score is the Performance parameter in classifiaction problem, which is the harmonic mean of precision and recall"
   ]
  },
  {
   "cell_type": "code",
   "execution_count": 4,
   "id": "f606a07e-0785-4b0c-8e5c-5d94310943c2",
   "metadata": {},
   "outputs": [],
   "source": [
    "## F-Beta score:(1+B^2)*(precision*Recall)/((precision+Recall)\n",
    "## F1 score=(1+1)*(precision*Recall)/((precision+Recall) whre B=1\n",
    "## F1 score=2*(precision*Recall)/((precision+Recall)"
   ]
  },
  {
   "cell_type": "markdown",
   "id": "adcf782a-218b-4010-ba41-72e86e542f55",
   "metadata": {},
   "source": [
    "Q3. What is ROC and AUC, and how are they used to evaluate the performance of classification models?"
   ]
  },
  {
   "cell_type": "code",
   "execution_count": 5,
   "id": "03114940-7149-4275-a9ec-f83122fe3110",
   "metadata": {},
   "outputs": [],
   "source": [
    "## ROC curve is REceiver operating characteristic curve : it is the plot between false positive rate(FPR) and True Positive Rate(TPR)  \n",
    "## at various threshold values and essentially separates the ‘signal’ from the ‘noise.’"
   ]
  },
  {
   "cell_type": "code",
   "execution_count": 6,
   "id": "59c00884-3bc4-444c-b8ce-3dadf834a7ee",
   "metadata": {},
   "outputs": [],
   "source": [
    "## The Area Under the Curve (AUC) is the measure of the ability of a binary classifier to distinguish between classes and is used as a summary of the ROC curve.\n",
    "### Higher is the AUC better is the models performance"
   ]
  },
  {
   "cell_type": "markdown",
   "id": "69ae201e-2425-4e97-9f87-43e663765dbb",
   "metadata": {},
   "source": [
    "Q4. How do you choose the best metric to evaluate the performance of a classification model?\n",
    "What is multiclass classification and how is it different from binary classification?"
   ]
  },
  {
   "cell_type": "code",
   "execution_count": 7,
   "id": "2600d4b1-cc37-4792-bf1e-a0374760cfd2",
   "metadata": {},
   "outputs": [],
   "source": [
    "## Choosing the best metric to evaluate the performance of a classification model depends on the problem at hand,\n",
    "## the goals of the analysis, and the trade-offs between different types of errors. "
   ]
  },
  {
   "cell_type": "code",
   "execution_count": 8,
   "id": "69c3f477-000c-40c2-84a1-eb712b181e8c",
   "metadata": {},
   "outputs": [],
   "source": [
    "## It is often useful to consider multiple metrics and to interpret them in the context of the problem at hand.\n",
    "## for eg as discussed in Q1 where Precision and Recall is important , similarly when you need to consider both then F1 score is important\n",
    "## confusin matrix and Accuracy is atmost importance to calculate in every classification problem"
   ]
  },
  {
   "cell_type": "code",
   "execution_count": 9,
   "id": "911e7285-064c-4099-8455-9bbb8f72b987",
   "metadata": {},
   "outputs": [],
   "source": [
    "## Multiclass classification has more than 2 classes as dependent variable , while binary has only 2\n",
    "## Multiclass classification eg can be to classify images of flowers like rose,lotus,lily,sunflower"
   ]
  },
  {
   "cell_type": "markdown",
   "id": "f4024aad-b73b-46ff-8b8f-1f9620273bbd",
   "metadata": {},
   "source": [
    "Q5. Explain how logistic regression can be used for multiclass classification."
   ]
  },
  {
   "cell_type": "code",
   "execution_count": 10,
   "id": "cd0a1d2d-2aac-4db7-86a7-d2ec667e262e",
   "metadata": {},
   "outputs": [],
   "source": [
    "## Logistic REgression is most widely used in binary classification but it can be used in multclassifcation problem using 'One over rest' technique and Multinomial Logistic REgression"
   ]
  },
  {
   "cell_type": "code",
   "execution_count": 11,
   "id": "b3dc1a33-dba4-49f1-abaf-8750fe40991b",
   "metadata": {},
   "outputs": [],
   "source": [
    "## One over rest(OVR): In this approach first we use one hot encoding for dependent variable to get binary values \n",
    "## Lets say 3 class are converted to one hot encoding to get 3 ouput features of binary values, \n",
    "## We train our model 1st with 1st o/p feature , then train with 2nd o/p and last with 3rd o/p \n",
    "## WE use predict_proba to get the probability values\n",
    "## The class with the highest predicted probability is then assigned to the instance"
   ]
  },
  {
   "cell_type": "code",
   "execution_count": 12,
   "id": "ee46fc19-c4f3-42b0-9d03-488de6b1bf89",
   "metadata": {},
   "outputs": [],
   "source": [
    "## Multinomial Logistic Regression: In this approach, we extend the binary logistic regression to handle multiple classes directly. \n",
    "## Instead of modeling the probability of an instance belonging to a single class, we model the probability of an instance belonging to each class directly \n",
    "## using the softmax function. Softmax regression assigns a probability to each class for each instance, \n",
    "## with the probabilities adding up to 1. The class with the highest probability is then assigned to the instance. "
   ]
  },
  {
   "cell_type": "markdown",
   "id": "d05e26b4-6d0e-4330-a9e6-1627ee26736c",
   "metadata": {},
   "source": [
    "Q6. Describe the steps involved in an end-to-end project for multiclass classification."
   ]
  },
  {
   "cell_type": "code",
   "execution_count": 13,
   "id": "98734c89-f046-4b6c-b8ef-f80153772c07",
   "metadata": {},
   "outputs": [],
   "source": [
    "## Data Collection: We need to gather data from applicable sources and identify the problems "
   ]
  },
  {
   "cell_type": "code",
   "execution_count": 14,
   "id": "3cc3aa98-ed96-4c3b-88c0-4d96888850e8",
   "metadata": {},
   "outputs": [],
   "source": [
    "## Data Cleaning and preprocessing: After the data is collected we need to clean the data, handle missing values, outliers,converting categories to numerical"
   ]
  },
  {
   "cell_type": "code",
   "execution_count": 15,
   "id": "bc7a1658-2ea3-438d-a308-d5ba219a1909",
   "metadata": {},
   "outputs": [],
   "source": [
    "## Feature Engineering: this involves creating new feature from existing features kile doing ont hot encoding, scaling,"
   ]
  },
  {
   "cell_type": "code",
   "execution_count": 16,
   "id": "9add659c-3f61-4a00-b04f-bc53546fe305",
   "metadata": {},
   "outputs": [],
   "source": [
    "## Splitting : Split the data into train and test for performance of the model"
   ]
  },
  {
   "cell_type": "code",
   "execution_count": 17,
   "id": "41780e1c-db38-4c35-8cec-63ad0789a9a4",
   "metadata": {},
   "outputs": [],
   "source": [
    "## Model Selection: Select appropriate model for classification problem"
   ]
  },
  {
   "cell_type": "code",
   "execution_count": 18,
   "id": "309b009d-bf9a-4ae0-8c2a-995145e850cd",
   "metadata": {},
   "outputs": [],
   "source": [
    "## Model Training:Train the model on the training data, using appropriate hyperparameters."
   ]
  },
  {
   "cell_type": "code",
   "execution_count": 19,
   "id": "4cae9926-4113-4e27-b545-453e28ecf8c1",
   "metadata": {},
   "outputs": [],
   "source": [
    "## Model evaluation: Evaluate the performance of the model on the testing data, using appropriate evaluation metrics such as accuracy, precision, recall, F1 score, AUC-ROC."
   ]
  },
  {
   "cell_type": "code",
   "execution_count": 20,
   "id": "ab4cf39a-5d6d-4772-9588-0c347f6f39ec",
   "metadata": {},
   "outputs": [],
   "source": [
    "## Web appliation: Build web api using flask"
   ]
  },
  {
   "cell_type": "code",
   "execution_count": 21,
   "id": "3447690e-b738-4603-862f-e3e458bebf4a",
   "metadata": {},
   "outputs": [],
   "source": [
    "## Model Deployment :Deploy the model into production and integrate it with the existing system."
   ]
  },
  {
   "cell_type": "markdown",
   "id": "b1fb5eb5-b746-47b4-a564-2b4b0612e26a",
   "metadata": {},
   "source": [
    "Q7. What is model deployment and why is it important?"
   ]
  },
  {
   "cell_type": "code",
   "execution_count": 22,
   "id": "c4d74c26-d733-480e-a03d-903ab45780ad",
   "metadata": {},
   "outputs": [],
   "source": [
    "## Model deployment is the process of integrating a trained machine learning model into an existing production system or making \n",
    "## it available for use by end-users. The purpose of model deployment is to provide a practical solution to a real-world problem,\n",
    "## where the model can be used to make predictions or decisions based on new data."
   ]
  },
  {
   "cell_type": "code",
   "execution_count": 23,
   "id": "c896c65e-c999-4f43-a4e2-bb03bdbea5e2",
   "metadata": {},
   "outputs": [],
   "source": [
    "## Deploying a model is important because it enables the model to be used in real-world scenarios where it can provide value. Without deployment,\n",
    "## the model remains only a theoretical concept and cannot be used to solve practical problems"
   ]
  },
  {
   "cell_type": "markdown",
   "id": "12abad4c-7931-43a2-8874-21482a04f7b3",
   "metadata": {},
   "source": [
    "Q8. Explain how multi-cloud platforms are used for model deployment."
   ]
  },
  {
   "cell_type": "code",
   "execution_count": 24,
   "id": "ea4d7548-91d9-402f-adfa-1041952d0d32",
   "metadata": {},
   "outputs": [],
   "source": [
    "## Multi-cloud platforms refer to a system in which multiple cloud computing services from different providers are used simultaneously."
   ]
  },
  {
   "cell_type": "code",
   "execution_count": 25,
   "id": "43def58c-838d-4e82-a452-1b8c0c7487fb",
   "metadata": {},
   "outputs": [],
   "source": [
    "## To deploy a machine learning model on a multi-cloud platform, you would typically follow a similar process as for a single cloud provider. \n",
    "## You would need to prepare your model and data for deployment, set up the necessary infrastructure on each provider, \n",
    "## and configure the necessary connections and interfaces to enable users to interact with the model. "
   ]
  },
  {
   "cell_type": "markdown",
   "id": "294867ca-713d-4f2e-a970-f5c8a25022b9",
   "metadata": {},
   "source": [
    "Q9. Discuss the benefits and challenges of deploying machine learning models in a multi-cloud\n",
    "environment."
   ]
  },
  {
   "cell_type": "code",
   "execution_count": 26,
   "id": "23a9c826-3f00-424a-98f9-ab1a4dbbdb90",
   "metadata": {},
   "outputs": [],
   "source": [
    "## Multi-Cloud has some benefits"
   ]
  },
  {
   "cell_type": "code",
   "execution_count": 27,
   "id": "6a000640-7950-4724-b325-9e942f58d576",
   "metadata": {},
   "outputs": [],
   "source": [
    "## It has some advantages over single cloud\n",
    "## 1.Improved reliability and availability:By using multiple cloud providers, you can reduce the risk of downtime or service interruptions. \n",
    "## 2.Increased scalability:Using multiple cloud providers can enable you to scale your infrastructure more easily and efficiently.\n",
    "## 3.Cost optimization: You can choose between clouds as per cost\n",
    "## 4.Geographic distribution:Using multiple cloud providers can enable you to distribute your infrastructure across multiple geographic regions."
   ]
  },
  {
   "cell_type": "code",
   "execution_count": 28,
   "id": "87caefac-c582-4ae2-b687-3e38db36341b",
   "metadata": {},
   "outputs": [],
   "source": [
    "## Challenges"
   ]
  },
  {
   "cell_type": "code",
   "execution_count": 29,
   "id": "e0ea0340-aab2-421a-9bf8-8c3dce839f82",
   "metadata": {},
   "outputs": [],
   "source": [
    "## Complexity: Deploying a machine learning model across multiple cloud providers can be complex and require a significant amount of planning and coordination. \n",
    "## Security and compliance: Using multiple cloud providers can create challenges around security and compliance. \n",
    "##       It can be difficult to maintain consistent security policies and audit trails across multiple providers,\n",
    "## Performance: Deploying a machine learning model across multiple cloud providers can create additional latency and network overhead, \n",
    "##        which can impact the overall performance of the system. \n",
    "## Cost: While multi-cloud platforms can help optimize costs by choosing the most cost-effective provider for each component of the infrastructure,\n",
    "##        they can also create additional costs through data transfer fees and increased management overhead"
   ]
  },
  {
   "cell_type": "code",
   "execution_count": null,
   "id": "6a3d6462-0388-4962-9a9c-8369a13fb4ed",
   "metadata": {},
   "outputs": [],
   "source": []
  }
 ],
 "metadata": {
  "kernelspec": {
   "display_name": "Python 3 (ipykernel)",
   "language": "python",
   "name": "python3"
  },
  "language_info": {
   "codemirror_mode": {
    "name": "ipython",
    "version": 3
   },
   "file_extension": ".py",
   "mimetype": "text/x-python",
   "name": "python",
   "nbconvert_exporter": "python",
   "pygments_lexer": "ipython3",
   "version": "3.10.8"
  }
 },
 "nbformat": 4,
 "nbformat_minor": 5
}
